{
 "cells": [
  {
   "cell_type": "code",
   "execution_count": 1,
   "metadata": {},
   "outputs": [],
   "source": [
    "import json\n",
    "import numpy\n",
    "import re\n",
    "from tqdm import tqdm\n",
    "import pandas as pd\n",
    "import numpy as np\n",
    "import random"
   ]
  },
  {
   "cell_type": "code",
   "execution_count": 2,
   "metadata": {},
   "outputs": [],
   "source": [
    "def clean_report_mimic_cxr(report):\n",
    "    report_cleaner = lambda t: t.replace('\\n', ' ').replace('__', '_').replace('__', '_').replace('__', '_') \\\n",
    "        .replace('__', '_').replace('__', '_').replace('__', '_').replace('__', '_').replace('  ', ' ') \\\n",
    "        .replace('  ', ' ').replace('  ', ' ').replace('  ', ' ').replace('  ', ' ').replace('  ', ' ') \\\n",
    "        .replace('..', '.').replace('..', '.').replace('..', '.').replace('..', '.').replace('..', '.') \\\n",
    "        .replace('..', '.').replace('..', '.').replace('..', '.').replace('1. ', '').replace('. 2. ', '. ') \\\n",
    "        .replace('. 3. ', '. ').replace('. 4. ', '. ').replace('. 5. ', '. ').replace(' 2. ', '. ') \\\n",
    "        .replace(' 3. ', '. ').replace(' 4. ', '. ').replace(' 5. ', '. ') \\\n",
    "        .strip().lower().split('. ')\n",
    "    sent_cleaner = lambda t: re.sub('[.,?;*!%^&_+():-\\[\\]{}]', '', t.replace('\"', '').replace('/', '')\n",
    "                                    .replace('\\\\', '').replace(\"'\", '').strip().lower())\n",
    "    tokens = [sent_cleaner(sent) for sent in report_cleaner(report) if sent_cleaner(sent) != []]\n",
    "    report = ' . '.join(tokens) + ' .'\n",
    "    return report"
   ]
  },
  {
   "cell_type": "code",
   "execution_count": 3,
   "metadata": {},
   "outputs": [],
   "source": [
    "with open('../data/kg_node.json') as f:\n",
    "    data = json.load(f)"
   ]
  },
  {
   "cell_type": "code",
   "execution_count": 4,
   "metadata": {},
   "outputs": [
    {
     "data": {
      "text/plain": [
       "{'normal': 0,\n",
       " 'pleural': 220661,\n",
       " 'effusion': 204633,\n",
       " 'pneumothorax': 198977,\n",
       " 'lung': 119446,\n",
       " 'lungs': 117604,\n",
       " 'pulmonary': 110935,\n",
       " 'consolidation': 107340,\n",
       " 'mediastinal': 97515,\n",
       " 'silhouette': 95344,\n",
       " 'contours': 93225,\n",
       " 'cardiomediastinal': 85736,\n",
       " 'heart': 81456,\n",
       " 'hilar': 78590,\n",
       " 'cardiac': 70955,\n",
       " 'atelectasis': 68046,\n",
       " 'edema': 63375,\n",
       " 'osseous': 50848,\n",
       " 'opacity': 46192,\n",
       " 'pneumonia': 37637,\n",
       " 'effusions': 36617,\n",
       " 'opacities': 34646,\n",
       " 'lobe': 33617,\n",
       " 'vascular': 31501,\n",
       " 'thoracic': 30851,\n",
       " 'hemidiaphragm': 25828,\n",
       " 'aorta': 25711,\n",
       " 'vasculature': 22911,\n",
       " 'cardiomegaly': 22770,\n",
       " 'spine': 20913,\n",
       " 'silhouettes': 19480,\n",
       " 'rib': 17219,\n",
       " 'retrocardiac': 11921,\n",
       " 'opacification': 11338,\n",
       " 'fracture': 10870,\n",
       " 'costophrenic': 10535,\n",
       " 'atrium': 10384,\n",
       " 'fractures': 10248,\n",
       " 'endotracheal': 9537,\n",
       " 'stomach': 9286,\n",
       " 'calcifications': 8856,\n",
       " 'ventricle': 7767,\n",
       " 'venous': 7719,\n",
       " 'thickening': 7297,\n",
       " 'airspace': 6309,\n",
       " 'vertebral': 5258,\n",
       " 'perihilar': 5186,\n",
       " 'emphysema': 4949,\n",
       " 'calcification': 4932,\n",
       " 'diaphragm': 4922,\n",
       " 'knob': 4679,\n",
       " 'hernia': 4493,\n",
       " 'subclavian': 3620,\n",
       " 'nodule': 3492,\n",
       " 'nodules': 3474,\n",
       " 'trachea': 3268,\n",
       " 'engorgement': 3029,\n",
       " 'bones': 2674,\n",
       " 'lobes': 2672,\n",
       " 'diaphragms': 2647,\n",
       " 'atelectatic': 2556,\n",
       " 'scoliosis': 2544,\n",
       " 'vein': 2527,\n",
       " 'sternal': 2511,\n",
       " 'vessels': 2465,\n",
       " 'pneumothoraces': 2396,\n",
       " 'thorax': 2351,\n",
       " 'ventricular': 2348,\n",
       " 'infiltrates': 2273,\n",
       " 'granuloma': 2203,\n",
       " 'ribs': 2161,\n",
       " 'pectoral': 2051,\n",
       " 'thoracolumbar': 2022,\n",
       " 'lymphadenopathy': 1900,\n",
       " 'bowel': 1818,\n",
       " 'esophagus': 1757,\n",
       " 'lingula': 1701,\n",
       " 'skeletal': 1693,\n",
       " 'head': 1665,\n",
       " 'pneumomediastinum': 1628,\n",
       " 'gastric': 1590,\n",
       " 'lesion': 1588,\n",
       " 'lesions': 1202,\n",
       " 'hemidiaphragms': 1577,\n",
       " 'clavicle': 1558,\n",
       " 'lumbar': 1554,\n",
       " 'cardiopulmonary': 1528,\n",
       " 'breast': 1451,\n",
       " 'infrahilar': 1420,\n",
       " 'pericardial': 1341,\n",
       " 'alveolar': 1317,\n",
       " 'acromioclavicular': 1311,\n",
       " 'vena': 1295,\n",
       " 'eventration': 1290,\n",
       " 'axilla': 1249,\n",
       " 'osteophytes': 1242,\n",
       " 'fibrosis': 1229,\n",
       " 'thyroid': 1226,\n",
       " 'peribronchial': 1209,\n",
       " 'hypertrophic': 1196,\n",
       " 'opacifications': 1196,\n",
       " 'indistinctness': 1191,\n",
       " 'lymph': 1185,\n",
       " 'bronchial': 1160,\n",
       " 'obscuring': 1160,\n",
       " 'shadow': 1124,\n",
       " 'bronchiectasis': 1114,\n",
       " 'atrial': 1012,\n",
       " 'pleura': 1006,\n",
       " 'masses': 1005,\n",
       " 'lobar': 872,\n",
       " 'obscures': 864,\n",
       " 'adenopathy': 862,\n",
       " 'diaphragmatic': 839,\n",
       " 'cardiophrenic': 827,\n",
       " 'fibrotic': 752,\n",
       " 'pneumoperitoneum': 732,\n",
       " 'shadows': 729,\n",
       " 'sclerotic': 695,\n",
       " 'hypoinflated': 504,\n",
       " 'hernias': 19,\n",
       " 'hypoinflation': 10,\n",
       " 'chondrocalcinosis': 9,\n",
       " 'cicatricial': 7}"
      ]
     },
     "execution_count": 4,
     "metadata": {},
     "output_type": "execute_result"
    }
   ],
   "source": [
    "data"
   ]
  },
  {
   "cell_type": "code",
   "execution_count": 5,
   "metadata": {},
   "outputs": [
    {
     "data": {
      "text/plain": [
       "124"
      ]
     },
     "execution_count": 5,
     "metadata": {},
     "output_type": "execute_result"
    }
   ],
   "source": [
    "len(data)"
   ]
  },
  {
   "cell_type": "code",
   "execution_count": 33,
   "metadata": {},
   "outputs": [],
   "source": [
    "pair = []\n",
    "for i, (sk, sv) in enumerate(data.items()):\n",
    "    for j, (dk, dv) in enumerate(data.items()):\n",
    "#         if j <= i:\n",
    "#             continue\n",
    "#         else:\n",
    "        pair.append([sk, dk])"
   ]
  },
  {
   "cell_type": "code",
   "execution_count": 34,
   "metadata": {},
   "outputs": [
    {
     "data": {
      "text/plain": [
       "(15376, [['normal', 'normal'], ['normal', 'pleural']])"
      ]
     },
     "execution_count": 34,
     "metadata": {},
     "output_type": "execute_result"
    }
   ],
   "source": [
    "len(pair), pair[:2]"
   ]
  },
  {
   "cell_type": "code",
   "execution_count": 35,
   "metadata": {},
   "outputs": [],
   "source": [
    "co_freq = {}\n",
    "for sk, dk in pair:\n",
    "    co_freq[sk + '|' + dk] = 0"
   ]
  },
  {
   "cell_type": "code",
   "execution_count": 9,
   "metadata": {},
   "outputs": [],
   "source": [
    "with open('/home/shuxinyang/data/mimic/xrv/annotation.json', 'r') as f:\n",
    "    corpus = json.load(f)"
   ]
  },
  {
   "cell_type": "code",
   "execution_count": 10,
   "metadata": {},
   "outputs": [
    {
     "data": {
      "text/plain": [
       "{'id': '02aa804e-bde0afdd-112c0b34-7bc16630-4e384014',\n",
       " 'study_id': 50414267,\n",
       " 'subject_id': 10000032,\n",
       " 'report': 'There is no focal consolidation, pleural effusion or pneumothorax.  Bilateral\\n nodular opacities that most likely represent nipple shadows. The\\n cardiomediastinal silhouette is normal.  Clips project over the left lung,\\n potentially within the breast. The imaged upper abdomen is unremarkable.\\n Chronic deformity of the posterior left sixth and seventh ribs are noted.',\n",
       " 'image_path': ['p10/p10000032/s50414267/02aa804e-bde0afdd-112c0b34-7bc16630-4e384014.jpg'],\n",
       " 'split': 'train'}"
      ]
     },
     "execution_count": 10,
     "metadata": {},
     "output_type": "execute_result"
    }
   ],
   "source": [
    "train = corpus['train']\n",
    "train[0]"
   ]
  },
  {
   "cell_type": "code",
   "execution_count": 36,
   "metadata": {},
   "outputs": [
    {
     "name": "stderr",
     "output_type": "stream",
     "text": [
      "100%|██████████| 270790/270790 [12:56<00:00, 348.71it/s]\n"
     ]
    }
   ],
   "source": [
    "for item in tqdm(train):\n",
    "    report = clean_report_mimic_cxr(item['report'])\n",
    "    for sk, dk in pair:\n",
    "        if sk in report and dk in report:\n",
    "            co_freq[sk + '|' + dk] += 1"
   ]
  },
  {
   "cell_type": "code",
   "execution_count": 37,
   "metadata": {},
   "outputs": [],
   "source": [
    "with open('../data/co_occurrence_frequency.json', 'w') as f:\n",
    "    json.dump(co_freq, f);"
   ]
  },
  {
   "cell_type": "code",
   "execution_count": 38,
   "metadata": {},
   "outputs": [
    {
     "data": {
      "text/plain": [
       "226765"
      ]
     },
     "execution_count": 38,
     "metadata": {},
     "output_type": "execute_result"
    }
   ],
   "source": [
    "freqs = []\n",
    "for k, v in co_freq.items():\n",
    "    freqs.append(v)\n",
    "freqs.sort()\n",
    "max(freqs)"
   ]
  },
  {
   "cell_type": "code",
   "execution_count": 39,
   "metadata": {
    "scrolled": true
   },
   "outputs": [
    {
     "name": "stdout",
     "output_type": "stream",
     "text": [
      "1 :  9\n",
      "2 :  35\n",
      "3 :  127\n",
      "4 :  449\n",
      "5 :  1617\n"
     ]
    }
   ],
   "source": [
    "n = len(freqs)\n",
    "split_num = 5 + 1\n",
    "for i in range(1, split_num):\n",
    "    print(i, ': ', freqs[int(n * (i / split_num))])\n",
    "\n",
    "partition = []\n",
    "for i in range(1, split_num):\n",
    "    partition.append(freqs[int(n * (i / split_num))])\n",
    "partition.append(freqs[-1] + 1)"
   ]
  },
  {
   "cell_type": "code",
   "execution_count": 40,
   "metadata": {},
   "outputs": [
    {
     "data": {
      "text/plain": [
       "[9, 35, 127, 449, 1617, 226766]"
      ]
     },
     "execution_count": 40,
     "metadata": {},
     "output_type": "execute_result"
    }
   ],
   "source": [
    "partition"
   ]
  },
  {
   "cell_type": "code",
   "execution_count": 41,
   "metadata": {},
   "outputs": [
    {
     "name": "stderr",
     "output_type": "stream",
     "text": [
      "100%|██████████| 15376/15376 [00:00<00:00, 612380.41it/s]\n"
     ]
    }
   ],
   "source": [
    "knowlegde_graph = {'head': [], 'relation': [], 'tail': []}\n",
    "for k, v in tqdm(co_freq.items()):\n",
    "    if v == 0:\n",
    "        continue\n",
    "    sk, dk = k.split('|')\n",
    "    knowlegde_graph['head'].append(sk)\n",
    "    knowlegde_graph['tail'].append(dk)\n",
    "    for level, p in enumerate(partition[1:]):\n",
    "        if v <= p:\n",
    "            knowlegde_graph['relation'].append(level + 1)\n",
    "            break"
   ]
  },
  {
   "cell_type": "code",
   "execution_count": 42,
   "metadata": {},
   "outputs": [],
   "source": [
    "# knowlegde_graph['relation'] = [len(knowlegde_graph['relation'])] + knowlegde_graph['relation']\n",
    "# knowlegde_graph['head'] = [len(knowlegde_graph['relation'])] + knowlegde_graph['head']\n",
    "# knowlegde_graph['tail'] = [len(knowlegde_graph['relation'])] + knowlegde_graph['tail']\n",
    "\n",
    "df = pd.DataFrame.from_dict(knowlegde_graph)"
   ]
  },
  {
   "cell_type": "code",
   "execution_count": 43,
   "metadata": {},
   "outputs": [
    {
     "data": {
      "text/plain": [
       "(5, 1, 14464)"
      ]
     },
     "execution_count": 43,
     "metadata": {},
     "output_type": "execute_result"
    }
   ],
   "source": [
    "max(knowlegde_graph['relation']), min(knowlegde_graph['relation']), len(knowlegde_graph['relation'])"
   ]
  },
  {
   "cell_type": "code",
   "execution_count": 44,
   "metadata": {},
   "outputs": [],
   "source": [
    "# df.to_csv('../data/MIMIC_KG.csv', index=False, header=False)\n",
    "df.to_csv('../data/MIMIC_KG.tsv', index=False, header=False, sep='\\t')"
   ]
  },
  {
   "cell_type": "code",
   "execution_count": 45,
   "metadata": {},
   "outputs": [
    {
     "data": {
      "text/html": [
       "<div>\n",
       "<style scoped>\n",
       "    .dataframe tbody tr th:only-of-type {\n",
       "        vertical-align: middle;\n",
       "    }\n",
       "\n",
       "    .dataframe tbody tr th {\n",
       "        vertical-align: top;\n",
       "    }\n",
       "\n",
       "    .dataframe thead th {\n",
       "        text-align: right;\n",
       "    }\n",
       "</style>\n",
       "<table border=\"1\" class=\"dataframe\">\n",
       "  <thead>\n",
       "    <tr style=\"text-align: right;\">\n",
       "      <th></th>\n",
       "      <th>head</th>\n",
       "      <th>relation</th>\n",
       "      <th>tail</th>\n",
       "    </tr>\n",
       "  </thead>\n",
       "  <tbody>\n",
       "    <tr>\n",
       "      <th>0</th>\n",
       "      <td>normal</td>\n",
       "      <td>5</td>\n",
       "      <td>normal</td>\n",
       "    </tr>\n",
       "    <tr>\n",
       "      <th>1</th>\n",
       "      <td>normal</td>\n",
       "      <td>5</td>\n",
       "      <td>pleural</td>\n",
       "    </tr>\n",
       "    <tr>\n",
       "      <th>2</th>\n",
       "      <td>normal</td>\n",
       "      <td>5</td>\n",
       "      <td>effusion</td>\n",
       "    </tr>\n",
       "    <tr>\n",
       "      <th>3</th>\n",
       "      <td>normal</td>\n",
       "      <td>5</td>\n",
       "      <td>pneumothorax</td>\n",
       "    </tr>\n",
       "    <tr>\n",
       "      <th>4</th>\n",
       "      <td>normal</td>\n",
       "      <td>5</td>\n",
       "      <td>lung</td>\n",
       "    </tr>\n",
       "    <tr>\n",
       "      <th>...</th>\n",
       "      <td>...</td>\n",
       "      <td>...</td>\n",
       "      <td>...</td>\n",
       "    </tr>\n",
       "    <tr>\n",
       "      <th>14459</th>\n",
       "      <td>cicatricial</td>\n",
       "      <td>1</td>\n",
       "      <td>thorax</td>\n",
       "    </tr>\n",
       "    <tr>\n",
       "      <th>14460</th>\n",
       "      <td>cicatricial</td>\n",
       "      <td>1</td>\n",
       "      <td>hemidiaphragms</td>\n",
       "    </tr>\n",
       "    <tr>\n",
       "      <th>14461</th>\n",
       "      <td>cicatricial</td>\n",
       "      <td>1</td>\n",
       "      <td>bronchiectasis</td>\n",
       "    </tr>\n",
       "    <tr>\n",
       "      <th>14462</th>\n",
       "      <td>cicatricial</td>\n",
       "      <td>1</td>\n",
       "      <td>pleura</td>\n",
       "    </tr>\n",
       "    <tr>\n",
       "      <th>14463</th>\n",
       "      <td>cicatricial</td>\n",
       "      <td>1</td>\n",
       "      <td>cicatricial</td>\n",
       "    </tr>\n",
       "  </tbody>\n",
       "</table>\n",
       "<p>14464 rows × 3 columns</p>\n",
       "</div>"
      ],
      "text/plain": [
       "              head  relation            tail\n",
       "0           normal         5          normal\n",
       "1           normal         5         pleural\n",
       "2           normal         5        effusion\n",
       "3           normal         5    pneumothorax\n",
       "4           normal         5            lung\n",
       "...            ...       ...             ...\n",
       "14459  cicatricial         1          thorax\n",
       "14460  cicatricial         1  hemidiaphragms\n",
       "14461  cicatricial         1  bronchiectasis\n",
       "14462  cicatricial         1          pleura\n",
       "14463  cicatricial         1     cicatricial\n",
       "\n",
       "[14464 rows x 3 columns]"
      ]
     },
     "execution_count": 45,
     "metadata": {},
     "output_type": "execute_result"
    }
   ],
   "source": [
    "df"
   ]
  },
  {
   "cell_type": "code",
   "execution_count": 80,
   "metadata": {},
   "outputs": [
    {
     "name": "stderr",
     "output_type": "stream",
     "text": [
      "100%|██████████| 7626/7626 [00:00<00:00, 505983.74it/s]\n"
     ]
    }
   ],
   "source": [
    "# 只用 大于5 的关系\n",
    "knowlegde_graph = {'head': [], 'relation': [], 'tail': []}\n",
    "for k, v in tqdm(co_freq.items()):\n",
    "    if v < partition[5]:\n",
    "        continue\n",
    "    sk, dk = k.split('|')\n",
    "    knowlegde_graph['head'].append(sk)\n",
    "    knowlegde_graph['tail'].append(dk)\n",
    "    for level, p in enumerate(partition[5:]):\n",
    "        if v <= p:\n",
    "            knowlegde_graph['relation'].append(level + 1)\n",
    "            break"
   ]
  },
  {
   "cell_type": "code",
   "execution_count": 81,
   "metadata": {},
   "outputs": [
    {
     "data": {
      "text/plain": [
       "(5, 1, 3053)"
      ]
     },
     "execution_count": 81,
     "metadata": {},
     "output_type": "execute_result"
    }
   ],
   "source": [
    "df = pd.DataFrame.from_dict(knowlegde_graph)\n",
    "max(knowlegde_graph['relation']), min(knowlegde_graph['relation']), len(knowlegde_graph['relation'])"
   ]
  },
  {
   "cell_type": "code",
   "execution_count": 82,
   "metadata": {},
   "outputs": [
    {
     "data": {
      "text/html": [
       "<div>\n",
       "<style scoped>\n",
       "    .dataframe tbody tr th:only-of-type {\n",
       "        vertical-align: middle;\n",
       "    }\n",
       "\n",
       "    .dataframe tbody tr th {\n",
       "        vertical-align: top;\n",
       "    }\n",
       "\n",
       "    .dataframe thead th {\n",
       "        text-align: right;\n",
       "    }\n",
       "</style>\n",
       "<table border=\"1\" class=\"dataframe\">\n",
       "  <thead>\n",
       "    <tr style=\"text-align: right;\">\n",
       "      <th></th>\n",
       "      <th>head</th>\n",
       "      <th>relation</th>\n",
       "      <th>tail</th>\n",
       "    </tr>\n",
       "  </thead>\n",
       "  <tbody>\n",
       "    <tr>\n",
       "      <th>0</th>\n",
       "      <td>normal</td>\n",
       "      <td>5</td>\n",
       "      <td>pleural</td>\n",
       "    </tr>\n",
       "    <tr>\n",
       "      <th>1</th>\n",
       "      <td>normal</td>\n",
       "      <td>5</td>\n",
       "      <td>effusion</td>\n",
       "    </tr>\n",
       "    <tr>\n",
       "      <th>2</th>\n",
       "      <td>normal</td>\n",
       "      <td>5</td>\n",
       "      <td>pneumothorax</td>\n",
       "    </tr>\n",
       "    <tr>\n",
       "      <th>3</th>\n",
       "      <td>normal</td>\n",
       "      <td>5</td>\n",
       "      <td>lung</td>\n",
       "    </tr>\n",
       "    <tr>\n",
       "      <th>4</th>\n",
       "      <td>normal</td>\n",
       "      <td>5</td>\n",
       "      <td>lungs</td>\n",
       "    </tr>\n",
       "    <tr>\n",
       "      <th>...</th>\n",
       "      <td>...</td>\n",
       "      <td>...</td>\n",
       "      <td>...</td>\n",
       "    </tr>\n",
       "    <tr>\n",
       "      <th>3048</th>\n",
       "      <td>pleura</td>\n",
       "      <td>2</td>\n",
       "      <td>fibrotic</td>\n",
       "    </tr>\n",
       "    <tr>\n",
       "      <th>3049</th>\n",
       "      <td>pleura</td>\n",
       "      <td>3</td>\n",
       "      <td>pneumoperitoneum</td>\n",
       "    </tr>\n",
       "    <tr>\n",
       "      <th>3050</th>\n",
       "      <td>pleura</td>\n",
       "      <td>2</td>\n",
       "      <td>shadows</td>\n",
       "    </tr>\n",
       "    <tr>\n",
       "      <th>3051</th>\n",
       "      <td>pleura</td>\n",
       "      <td>4</td>\n",
       "      <td>sclerotic</td>\n",
       "    </tr>\n",
       "    <tr>\n",
       "      <th>3052</th>\n",
       "      <td>pleura</td>\n",
       "      <td>2</td>\n",
       "      <td>hypoinflated</td>\n",
       "    </tr>\n",
       "  </tbody>\n",
       "</table>\n",
       "<p>3053 rows × 3 columns</p>\n",
       "</div>"
      ],
      "text/plain": [
       "        head  relation              tail\n",
       "0     normal         5           pleural\n",
       "1     normal         5          effusion\n",
       "2     normal         5      pneumothorax\n",
       "3     normal         5              lung\n",
       "4     normal         5             lungs\n",
       "...      ...       ...               ...\n",
       "3048  pleura         2          fibrotic\n",
       "3049  pleura         3  pneumoperitoneum\n",
       "3050  pleura         2           shadows\n",
       "3051  pleura         4         sclerotic\n",
       "3052  pleura         2      hypoinflated\n",
       "\n",
       "[3053 rows x 3 columns]"
      ]
     },
     "execution_count": 82,
     "metadata": {},
     "output_type": "execute_result"
    }
   ],
   "source": [
    "df"
   ]
  },
  {
   "cell_type": "code",
   "execution_count": 83,
   "metadata": {},
   "outputs": [],
   "source": [
    "df.to_csv('../data/KGE_train_great5.csv', index=False, header=False)\n",
    "df.to_csv('../data/KGE_train_great5.tsv', index=False, header=False, sep='\\t')"
   ]
  },
  {
   "cell_type": "code",
   "execution_count": 84,
   "metadata": {},
   "outputs": [],
   "source": [
    "import random\n",
    "idx = [i for i in range(3053)]"
   ]
  },
  {
   "cell_type": "code",
   "execution_count": 93,
   "metadata": {},
   "outputs": [],
   "source": [
    "from sklearn.model_selection import train_test_split\n",
    "sample_id = train_test_split(idx, test_size=0.2)\n",
    "len(sample_id[0]), len(sample_id[1])"
   ]
  },
  {
   "cell_type": "code",
   "execution_count": 102,
   "metadata": {},
   "outputs": [],
   "source": [
    "train_head = np.asarray(knowlegde_graph['head'])[sample_id[0]]\n",
    "train_relation = np.asarray(knowlegde_graph['relation'])[sample_id[0]]\n",
    "train_tail = np.asarray(knowlegde_graph['tail'])[sample_id[0]]"
   ]
  },
  {
   "cell_type": "code",
   "execution_count": 105,
   "metadata": {},
   "outputs": [],
   "source": [
    "df = pd.DataFrame.from_dict({'head': train_head, 'relation': train_relation, 'tail': train_tail})\n",
    "df.to_csv('../data/KGE_train_split_great5.tsv', index=False, header=False, sep='\\t')"
   ]
  },
  {
   "cell_type": "code",
   "execution_count": null,
   "metadata": {},
   "outputs": [],
   "source": []
  },
  {
   "cell_type": "code",
   "execution_count": 106,
   "metadata": {},
   "outputs": [],
   "source": [
    "test_head = np.asarray(knowlegde_graph['head'])[sample_id[1]]\n",
    "test_relation = np.asarray(knowlegde_graph['relation'])[sample_id[1]]\n",
    "test_tail = np.asarray(knowlegde_graph['tail'])[sample_id[1]]"
   ]
  },
  {
   "cell_type": "code",
   "execution_count": 107,
   "metadata": {},
   "outputs": [],
   "source": [
    "df = pd.DataFrame.from_dict({'head': test_head, 'relation': test_relation, 'tail': test_tail})\n",
    "df.to_csv('../data/KGE_test_split_great5.tsv', index=False, header=False, sep='\\t')"
   ]
  },
  {
   "cell_type": "code",
   "execution_count": null,
   "metadata": {},
   "outputs": [],
   "source": []
  }
 ],
 "metadata": {
  "kernelspec": {
   "display_name": "Python 3",
   "language": "python",
   "name": "python3"
  },
  "language_info": {
   "codemirror_mode": {
    "name": "ipython",
    "version": 3
   },
   "file_extension": ".py",
   "mimetype": "text/x-python",
   "name": "python",
   "nbconvert_exporter": "python",
   "pygments_lexer": "ipython3",
   "version": "3.8.3"
  }
 },
 "nbformat": 4,
 "nbformat_minor": 4
}
