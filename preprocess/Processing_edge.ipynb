{
 "cells": [
  {
   "cell_type": "code",
   "execution_count": 1,
   "metadata": {},
   "outputs": [],
   "source": [
    "import json\n",
    "import numpy as np\n",
    "import pandas as pd"
   ]
  },
  {
   "cell_type": "code",
   "execution_count": 2,
   "metadata": {},
   "outputs": [],
   "source": [
    "kg = pd.read_csv('../data/MIMIC_KG.tsv', sep='\\t')\n",
    "entities = pd.read_csv('../data/entities.tsv', sep='\\t')\n",
    "relations = pd.read_csv('../data/relations.tsv', sep='\\t')\n",
    "\n",
    "feats = np.load('../data/MIMIC_KG_RotatE_relation.npy')"
   ]
  },
  {
   "cell_type": "code",
   "execution_count": 5,
   "metadata": {},
   "outputs": [
    {
     "data": {
      "text/html": [
       "<div>\n",
       "<style scoped>\n",
       "    .dataframe tbody tr th:only-of-type {\n",
       "        vertical-align: middle;\n",
       "    }\n",
       "\n",
       "    .dataframe tbody tr th {\n",
       "        vertical-align: top;\n",
       "    }\n",
       "\n",
       "    .dataframe thead th {\n",
       "        text-align: right;\n",
       "    }\n",
       "</style>\n",
       "<table border=\"1\" class=\"dataframe\">\n",
       "  <thead>\n",
       "    <tr style=\"text-align: right;\">\n",
       "      <th></th>\n",
       "      <th>normal</th>\n",
       "      <th>5</th>\n",
       "      <th>normal.1</th>\n",
       "    </tr>\n",
       "  </thead>\n",
       "  <tbody>\n",
       "    <tr>\n",
       "      <th>0</th>\n",
       "      <td>normal</td>\n",
       "      <td>5</td>\n",
       "      <td>pleural</td>\n",
       "    </tr>\n",
       "    <tr>\n",
       "      <th>1</th>\n",
       "      <td>normal</td>\n",
       "      <td>5</td>\n",
       "      <td>effusion</td>\n",
       "    </tr>\n",
       "    <tr>\n",
       "      <th>2</th>\n",
       "      <td>normal</td>\n",
       "      <td>5</td>\n",
       "      <td>pneumothorax</td>\n",
       "    </tr>\n",
       "    <tr>\n",
       "      <th>3</th>\n",
       "      <td>normal</td>\n",
       "      <td>5</td>\n",
       "      <td>lung</td>\n",
       "    </tr>\n",
       "    <tr>\n",
       "      <th>4</th>\n",
       "      <td>normal</td>\n",
       "      <td>5</td>\n",
       "      <td>lungs</td>\n",
       "    </tr>\n",
       "    <tr>\n",
       "      <th>...</th>\n",
       "      <td>...</td>\n",
       "      <td>...</td>\n",
       "      <td>...</td>\n",
       "    </tr>\n",
       "    <tr>\n",
       "      <th>14458</th>\n",
       "      <td>cicatricial</td>\n",
       "      <td>1</td>\n",
       "      <td>thorax</td>\n",
       "    </tr>\n",
       "    <tr>\n",
       "      <th>14459</th>\n",
       "      <td>cicatricial</td>\n",
       "      <td>1</td>\n",
       "      <td>hemidiaphragms</td>\n",
       "    </tr>\n",
       "    <tr>\n",
       "      <th>14460</th>\n",
       "      <td>cicatricial</td>\n",
       "      <td>1</td>\n",
       "      <td>bronchiectasis</td>\n",
       "    </tr>\n",
       "    <tr>\n",
       "      <th>14461</th>\n",
       "      <td>cicatricial</td>\n",
       "      <td>1</td>\n",
       "      <td>pleura</td>\n",
       "    </tr>\n",
       "    <tr>\n",
       "      <th>14462</th>\n",
       "      <td>cicatricial</td>\n",
       "      <td>1</td>\n",
       "      <td>cicatricial</td>\n",
       "    </tr>\n",
       "  </tbody>\n",
       "</table>\n",
       "<p>14463 rows × 3 columns</p>\n",
       "</div>"
      ],
      "text/plain": [
       "            normal  5        normal.1\n",
       "0           normal  5         pleural\n",
       "1           normal  5        effusion\n",
       "2           normal  5    pneumothorax\n",
       "3           normal  5            lung\n",
       "4           normal  5           lungs\n",
       "...            ... ..             ...\n",
       "14458  cicatricial  1          thorax\n",
       "14459  cicatricial  1  hemidiaphragms\n",
       "14460  cicatricial  1  bronchiectasis\n",
       "14461  cicatricial  1          pleura\n",
       "14462  cicatricial  1     cicatricial\n",
       "\n",
       "[14463 rows x 3 columns]"
      ]
     },
     "execution_count": 5,
     "metadata": {},
     "output_type": "execute_result"
    }
   ],
   "source": [
    "kg"
   ]
  },
  {
   "cell_type": "code",
   "execution_count": 17,
   "metadata": {},
   "outputs": [],
   "source": [
    "class KGDataset:\n",
    "    def __init__(self, kg_path, entity_path, relation_path, delimiter='\\t', skip_first_line=False):\n",
    "        self.delimiter = delimiter\n",
    "        self.entity2id, self.n_entities = self.read_entity(entity_path)\n",
    "        self.relation2id, self.n_relations = self.read_relation(relation_path)\n",
    "        self.train = self.read_triple(kg_path, \"train\", skip_first_line)\n",
    "        \n",
    "    def read_entity(self, entity_path):\n",
    "        with open(entity_path) as f:\n",
    "            entity2id = {}\n",
    "            for line in f:\n",
    "                eid, entity = line.strip().split(self.delimiter)\n",
    "                entity2id[entity] = int(eid)\n",
    "\n",
    "        return entity2id, len(entity2id)\n",
    "\n",
    "    def read_relation(self, relation_path):\n",
    "        with open(relation_path) as f:\n",
    "            relation2id = {}\n",
    "            for line in f:\n",
    "                rid, relation = line.strip().split(self.delimiter)\n",
    "                relation2id[relation] = int(rid)\n",
    "\n",
    "        return relation2id, len(relation2id)\n",
    "\n",
    "    def read_triple(self, path, mode='train', skip_first_line=False, format_order=[0,1,2]):\n",
    "        # mode: train/valid/test\n",
    "        if path is None:\n",
    "            return None\n",
    "\n",
    "        print('Reading {} triples....'.format(mode))\n",
    "        heads = []\n",
    "        tails = []\n",
    "        rels = []\n",
    "        with open(path) as f:\n",
    "            if skip_first_line:\n",
    "                _ = f.readline()\n",
    "            for line in f:\n",
    "                triple = line.strip().split(self.delimiter)\n",
    "                h, r, t = triple[format_order[0]], triple[format_order[1]], triple[format_order[2]]\n",
    "                heads.append(self.entity2id[h])\n",
    "                rels.append(self.relation2id[r])\n",
    "                tails.append(self.entity2id[t])\n",
    "\n",
    "        heads = np.array(heads, dtype=np.int64)\n",
    "        tails = np.array(tails, dtype=np.int64)\n",
    "        rels = np.array(rels, dtype=np.int64)\n",
    "        print('Finished. Read {} {} triples.'.format(len(heads), mode))\n",
    "\n",
    "        return (heads, rels, tails)"
   ]
  },
  {
   "cell_type": "code",
   "execution_count": 18,
   "metadata": {},
   "outputs": [
    {
     "name": "stdout",
     "output_type": "stream",
     "text": [
      "Reading train triples....\n",
      "Finished. Read 14464 train triples.\n"
     ]
    }
   ],
   "source": [
    "kg_path = '../data/MIMIC_KG.tsv'\n",
    "entity_path = '../data/entities.tsv'\n",
    "relation_path = '../data/relations.tsv'\n",
    "kg_dataset = KGDataset(kg_path, entity_path, relation_path)"
   ]
  },
  {
   "cell_type": "code",
   "execution_count": 20,
   "metadata": {},
   "outputs": [
    {
     "data": {
      "text/plain": [
       "(array([  0,   0,   0, ..., 123, 123, 123]),\n",
       " array([0, 0, 0, ..., 3, 3, 3]),\n",
       " array([  0,   1,   2, ..., 106, 108, 123]))"
      ]
     },
     "execution_count": 20,
     "metadata": {},
     "output_type": "execute_result"
    }
   ],
   "source": [
    "kg_dataset.train"
   ]
  },
  {
   "cell_type": "code",
   "execution_count": 25,
   "metadata": {},
   "outputs": [
    {
     "data": {
      "text/plain": [
       "array([  0,   1,   2,   3,   4,   5,   6,   7,   8,   9,  10,  11,  12,\n",
       "        13,  14,  15,  16,  17,  18,  19,  20,  21,  22,  23,  24,  25,\n",
       "        26,  27,  28,  29,  30,  31,  32,  33,  34,  35,  36,  37,  38,\n",
       "        39,  40,  41,  42,  43,  44,  45,  46,  47,  48,  49,  50,  51,\n",
       "        52,  53,  54,  55,  56,  57,  58,  59,  60,  61,  62,  63,  64,\n",
       "        65,  66,  67,  68,  69,  70,  71,  72,  73,  74,  75,  76,  77,\n",
       "        78,  79,  80,  81,  82,  83,  84,  85,  86,  87,  88,  89,  90,\n",
       "        91,  92,  93,  94,  95,  96,  97,  98,  99, 100, 101, 102, 103,\n",
       "       104, 105, 106, 107, 108, 109, 110, 111, 112, 113, 114, 115, 116,\n",
       "       117, 118, 119, 120, 121, 122, 123])"
      ]
     },
     "execution_count": 25,
     "metadata": {},
     "output_type": "execute_result"
    }
   ],
   "source": [
    "np.unique(kg_dataset.train[0])"
   ]
  },
  {
   "cell_type": "code",
   "execution_count": 33,
   "metadata": {},
   "outputs": [],
   "source": [
    "n = len(np.unique(kg_dataset.train[0]))\n",
    "edges_feats = np.load('../data/MIMIC_KG_RotatE_relation.npy')\n",
    "feats = np.zeros((n, n, 200))"
   ]
  },
  {
   "cell_type": "code",
   "execution_count": 31,
   "metadata": {},
   "outputs": [
    {
     "data": {
      "text/plain": [
       "(5, 200)"
      ]
     },
     "execution_count": 31,
     "metadata": {},
     "output_type": "execute_result"
    }
   ],
   "source": [
    "edges_feats.shape"
   ]
  },
  {
   "cell_type": "code",
   "execution_count": 45,
   "metadata": {},
   "outputs": [],
   "source": [
    "for (h, r, t) in zip(kg_dataset.train[0], kg_dataset.train[1], kg_dataset.train[2]):\n",
    "    feats[h, t] = edges_feats[r]"
   ]
  },
  {
   "cell_type": "code",
   "execution_count": 48,
   "metadata": {},
   "outputs": [
    {
     "data": {
      "text/plain": [
       "(124, 124, 200)"
      ]
     },
     "execution_count": 48,
     "metadata": {},
     "output_type": "execute_result"
    }
   ],
   "source": [
    "feats.shape"
   ]
  },
  {
   "cell_type": "code",
   "execution_count": 50,
   "metadata": {},
   "outputs": [],
   "source": [
    "np.save('../data/MIMIC_KG_RotatE_relation_feats.npy', feats)"
   ]
  },
  {
   "cell_type": "code",
   "execution_count": null,
   "metadata": {},
   "outputs": [],
   "source": []
  }
 ],
 "metadata": {
  "kernelspec": {
   "display_name": "Python 3",
   "language": "python",
   "name": "python3"
  },
  "language_info": {
   "codemirror_mode": {
    "name": "ipython",
    "version": 3
   },
   "file_extension": ".py",
   "mimetype": "text/x-python",
   "name": "python",
   "nbconvert_exporter": "python",
   "pygments_lexer": "ipython3",
   "version": "3.8.3"
  }
 },
 "nbformat": 4,
 "nbformat_minor": 4
}
